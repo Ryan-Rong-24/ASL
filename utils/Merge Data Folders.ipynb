{
 "cells": [
  {
   "cell_type": "code",
   "execution_count": 10,
   "id": "ccb9f2a1",
   "metadata": {},
   "outputs": [],
   "source": [
    "import os\n",
    "import shutil\n",
    "import numpy as np"
   ]
  },
  {
   "cell_type": "code",
   "execution_count": 3,
   "id": "63166a6d",
   "metadata": {},
   "outputs": [],
   "source": [
    "SRC_PATH = \"./ASL-record/data\"\n",
    "DST_PATH = \"./transformer/data\""
   ]
  },
  {
   "cell_type": "code",
   "execution_count": 6,
   "id": "ddf58714",
   "metadata": {},
   "outputs": [],
   "source": [
    "actions = []\n",
    "for action in os.listdir(SRC_PATH):\n",
    "    actions.append(action)"
   ]
  },
  {
   "cell_type": "code",
   "execution_count": null,
   "id": "f9f21506",
   "metadata": {},
   "outputs": [],
   "source": [
    "for action in actions:\n",
    "    print(action)\n",
    "    if os.path.exists(os.path.join(DST_PATH,action)):\n",
    "        arr = np.array(os.listdir(os.path.join(DST_PATH,action))).astype(int)\n",
    "        max_vid_cnt = np.max(arr)\n",
    "        for video_src in os.listdir(os.path.join(SRC_PATH,action)):\n",
    "            vid_num = max_vid_cnt+int(video_src)\n",
    "            os.makedirs(os.path.join(DST_PATH,action,str(vid_num)),exist_ok=True)\n",
    "            for frame in os.listdir(os.path.join(SRC_PATH,action,video_src)):\n",
    "                shutil.copy(os.path.join(SRC_PATH,action,video_src,frame),os.path.join(DST_PATH,action,str(vid_num),frame))"
   ]
  },
  {
   "cell_type": "code",
   "execution_count": null,
   "id": "a12ef99c",
   "metadata": {},
   "outputs": [],
   "source": []
  }
 ],
 "metadata": {
  "kernelspec": {
   "display_name": "Python 3 (ipykernel)",
   "language": "python",
   "name": "python3"
  },
  "language_info": {
   "codemirror_mode": {
    "name": "ipython",
    "version": 3
   },
   "file_extension": ".py",
   "mimetype": "text/x-python",
   "name": "python",
   "nbconvert_exporter": "python",
   "pygments_lexer": "ipython3",
   "version": "3.10.4"
  }
 },
 "nbformat": 4,
 "nbformat_minor": 5
}
