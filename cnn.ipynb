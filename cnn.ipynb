{
 "cells": [
  {
   "cell_type": "code",
   "execution_count": 1,
   "source": [
    "from tensorflow.keras.applications.vgg16 import VGG16, preprocess_input\r\n",
    "from tensorflow.keras.preprocessing.image import load_img, img_to_array\r\n",
    "from tensorflow.keras.models import Model"
   ],
   "outputs": [],
   "metadata": {}
  },
  {
   "cell_type": "code",
   "execution_count": 3,
   "source": [
    "model = VGG16()\r\n",
    "# restructure the model\r\n",
    "model = Model(inputs=model.inputs, outputs=model.layers[-2].output)"
   ],
   "outputs": [
    {
     "output_type": "stream",
     "name": "stdout",
     "text": [
      "Downloading data from https://storage.googleapis.com/tensorflow/keras-applications/vgg16/vgg16_weights_tf_dim_ordering_tf_kernels.h5\n",
      "553467904/553467096 [==============================] - 73s 0us/step\n",
      "553476096/553467096 [==============================] - 73s 0us/step\n"
     ]
    }
   ],
   "metadata": {}
  },
  {
   "cell_type": "code",
   "execution_count": 4,
   "source": [
    "image = load_img(\"test.jpg\", target_size=(448, 448))\r\n",
    "image = img_to_array(image)\r\n",
    "image = image.reshape((1, image.shape[0], image.shape[1], image.shape[2]))\r\n",
    "image = preprocess_input(image)\r\n",
    "feature = model.predict(image)"
   ],
   "outputs": [],
   "metadata": {}
  },
  {
   "cell_type": "code",
   "execution_count": 5,
   "source": [
    "print(feature.shape)"
   ],
   "outputs": [
    {
     "output_type": "stream",
     "name": "stdout",
     "text": [
      "(1, 4096)\n"
     ]
    }
   ],
   "metadata": {}
  },
  {
   "cell_type": "code",
   "execution_count": null,
   "source": [],
   "outputs": [],
   "metadata": {}
  }
 ],
 "metadata": {
  "orig_nbformat": 4,
  "language_info": {
   "name": "python",
   "version": "3.10.4",
   "mimetype": "text/x-python",
   "codemirror_mode": {
    "name": "ipython",
    "version": 3
   },
   "pygments_lexer": "ipython3",
   "nbconvert_exporter": "python",
   "file_extension": ".py"
  },
  "kernelspec": {
   "name": "python3",
   "display_name": "Python 3.10.4 64-bit"
  },
  "interpreter": {
   "hash": "b62186588bf472f5abc3fe199a5e5d185fd4dc91c41e87cceaa93b25f13751eb"
  }
 },
 "nbformat": 4,
 "nbformat_minor": 2
}