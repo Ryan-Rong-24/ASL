{
 "cells": [
  {
   "cell_type": "markdown",
   "id": "10513cbf",
   "metadata": {},
   "source": [
    "# 1. Import"
   ]
  },
  {
   "cell_type": "code",
   "execution_count": 2,
   "id": "271765e0",
   "metadata": {},
   "outputs": [],
   "source": [
    "import cv2\n",
    "import copy\n",
    "import os"
   ]
  },
  {
   "cell_type": "markdown",
   "id": "53330a85",
   "metadata": {},
   "source": [
    "# 2. Setup Folders for Manual Collection"
   ]
  },
  {
   "cell_type": "code",
   "execution_count": 59,
   "id": "a93ab2dc",
   "metadata": {},
   "outputs": [],
   "source": [
    "# Path for exported data, numpy arrays\n",
    "DATA_PATH = os.path.join('recordings') \n",
    "\n",
    "# Actions that we are testing\n",
    "actions = ['dad', 'hamburger','french fries']"
   ]
  },
  {
   "cell_type": "code",
   "execution_count": 60,
   "id": "28cdca1d",
   "metadata": {},
   "outputs": [],
   "source": [
    "# videos worth of data\n",
    "no_sequences = 90\n",
    "\n",
    "# Videos are going to be 128 frames in length\n",
    "sequence_length = 128"
   ]
  },
  {
   "cell_type": "code",
   "execution_count": 56,
   "id": "a2cf0bff",
   "metadata": {},
   "outputs": [],
   "source": [
    "os.makedirs('recordings',exist_ok=True)\n",
    "for action in actions:\n",
    "    os.makedirs(os.path.join(DATA_PATH, action),exist_ok=True)"
   ]
  },
  {
   "cell_type": "code",
   "execution_count": 61,
   "id": "ef930155",
   "metadata": {},
   "outputs": [],
   "source": [
    "for action in actions: \n",
    "    for sequence in range(1,no_sequences+1):\n",
    "        try: \n",
    "            os.makedirs(os.path.join(DATA_PATH, action, str(sequence)))\n",
    "        except:\n",
    "            pass"
   ]
  },
  {
   "cell_type": "markdown",
   "id": "15b12e59",
   "metadata": {},
   "source": [
    "# 3. Manual data collecting"
   ]
  },
  {
   "cell_type": "code",
   "execution_count": null,
   "id": "d8dee707",
   "metadata": {},
   "outputs": [],
   "source": [
    "cap = cv2.VideoCapture(0)\n",
    "# Loop through actions\n",
    "for action in actions:\n",
    "    # Loop through sequences aka videos\n",
    "    ret, frame = cap.read()           \n",
    "    cv2.putText(frame, 'Moving on to the next sign: {}, you have 10 seconds to learn the next sign'.format(action), (15,12), \n",
    "               cv2.FONT_HERSHEY_SIMPLEX, 0.5, (0, 0, 255), 1, cv2.LINE_AA)\n",
    "    # Show to screen\n",
    "    cv2.imshow('OpenCV Feed', frame)\n",
    "    cv2.waitKey(5000)\n",
    "\n",
    "    for sequence in range(1,no_sequences+1):\n",
    "        # Loop through video length aka sequence length\n",
    "        for frame_num in range(sequence_length):\n",
    "\n",
    "            # Read feed\n",
    "            ret, image = cap.read()\n",
    "            \n",
    "            # Apply wait logic\n",
    "            if frame_num == 0: \n",
    "                image_copy = copy.deepcopy(image)\n",
    "                cv2.putText(image_copy, 'STARTING COLLECTION', (120,200), \n",
    "                           cv2.FONT_HERSHEY_SIMPLEX, 1, (0,255, 0), 4, cv2.LINE_AA)\n",
    "                cv2.putText(image_copy, 'Collecting frames for {} Video Number {}'.format(action, sequence), (15,12), \n",
    "                           cv2.FONT_HERSHEY_SIMPLEX, 0.5, (0, 0, 255), 1, cv2.LINE_AA)\n",
    "                # Show to screen\n",
    "                cv2.imshow('OpenCV Feed', image_copy)\n",
    "                cv2.waitKey(500)\n",
    "            else: \n",
    "                cv2.putText(image, 'Collecting frames for {} Video Number {}'.format(action, sequence), (15,12), \n",
    "                           cv2.FONT_HERSHEY_SIMPLEX, 0.5, (0, 0, 255), 1, cv2.LINE_AA)\n",
    "                # Show to screen\n",
    "                cv2.imshow('OpenCV Feed', image)\n",
    "\n",
    "            # Export frames\n",
    "            save_path = os.path.join(DATA_PATH, action, str(sequence),str(frame_num)) + \".jpg\"\n",
    "            cv2.imwrite(save_path,image)\n",
    "\n",
    "            # Break gracefully\n",
    "            if cv2.waitKey(10) & 0xFF == ord('q'):\n",
    "                cap.release()\n",
    "                cv2.destroyAllWindows()\n",
    "                break\n",
    "\n",
    "cap.release()\n",
    "cv2.destroyAllWindows()"
   ]
  },
  {
   "cell_type": "code",
   "execution_count": null,
   "id": "0ef472cf",
   "metadata": {},
   "outputs": [],
   "source": []
  }
 ],
 "metadata": {
  "kernelspec": {
   "display_name": "Python 3 (ipykernel)",
   "language": "python",
   "name": "python3"
  },
  "language_info": {
   "codemirror_mode": {
    "name": "ipython",
    "version": 3
   },
   "file_extension": ".py",
   "mimetype": "text/x-python",
   "name": "python",
   "nbconvert_exporter": "python",
   "pygments_lexer": "ipython3",
   "version": "3.10.4"
  }
 },
 "nbformat": 4,
 "nbformat_minor": 5
}
