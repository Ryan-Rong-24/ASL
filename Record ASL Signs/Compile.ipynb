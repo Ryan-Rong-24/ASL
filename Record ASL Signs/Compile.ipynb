{
 "cells": [
  {
   "cell_type": "code",
   "execution_count": 11,
   "id": "12f171ae",
   "metadata": {},
   "outputs": [],
   "source": [
    "import os\n",
    "import shutil"
   ]
  },
  {
   "cell_type": "code",
   "execution_count": 12,
   "id": "0c0017c5",
   "metadata": {},
   "outputs": [],
   "source": [
    "# actions = ['can','you','help','me']\n",
    "# actions = ['your','name','what','hello','bye','excuse me','sorry','water','thanks','yesterday','yes','no']\n",
    "actions = ['family','clothe','mom','dad']\n",
    "SAVE_PATH = \"../transformer/data\"\n",
    "# action_map = {'can':93,'you':96,'help':96,'me':96}\n",
    "action_map = {'family':93,'clothe':93,'mom':93,'dad':93}\n",
    "# action_map = {'your':96,'name':96,'what':96,'hello':96,'bye':86,'excuse me':86,'sorry':86,'water':86,'thanks':86,'yesterday':86,'yes':93,'no':93}"
   ]
  },
  {
   "cell_type": "code",
   "execution_count": 13,
   "id": "6366c7f1",
   "metadata": {},
   "outputs": [],
   "source": [
    "os.makedirs(SAVE_PATH,exist_ok=True)\n",
    "for action in actions:\n",
    "    os.makedirs(os.path.join(SAVE_PATH,action),exist_ok=True)"
   ]
  },
  {
   "cell_type": "code",
   "execution_count": 14,
   "id": "04924e17",
   "metadata": {},
   "outputs": [],
   "source": [
    "for folder in os.listdir('.'):\n",
    "    if folder.endswith(\"recordings\"):\n",
    "        for action in actions:\n",
    "            if os.path.exists(os.path.join(folder,action)):\n",
    "                for video in os.listdir(os.path.join(folder,action)):\n",
    "                    os.makedirs(os.path.join(SAVE_PATH,action,str(action_map[action])),exist_ok=True)\n",
    "                    for frame in os.listdir(os.path.join(folder,action,video)):\n",
    "                        shutil.copy(os.path.join(folder,action,video,frame), os.path.join(SAVE_PATH,action,str(action_map[action]),frame))\n",
    "                    action_map[action]+=1\n",
    "                \n",
    "                "
   ]
  },
  {
   "cell_type": "code",
   "execution_count": null,
   "id": "4f246f4e",
   "metadata": {},
   "outputs": [],
   "source": []
  }
 ],
 "metadata": {
  "kernelspec": {
   "display_name": "Python 3 (ipykernel)",
   "language": "python",
   "name": "python3"
  },
  "language_info": {
   "codemirror_mode": {
    "name": "ipython",
    "version": 3
   },
   "file_extension": ".py",
   "mimetype": "text/x-python",
   "name": "python",
   "nbconvert_exporter": "python",
   "pygments_lexer": "ipython3",
   "version": "3.10.4"
  }
 },
 "nbformat": 4,
 "nbformat_minor": 5
}
